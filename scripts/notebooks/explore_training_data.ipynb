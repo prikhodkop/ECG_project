{
 "cells": [
  {
   "cell_type": "code",
   "execution_count": 5,
   "metadata": {
    "collapsed": true
   },
   "outputs": [],
   "source": [
    "import numpy as np\n",
    "import logging\n",
    "import matplotlib.pyplot as plt\n",
    "\n",
    "import sys\n",
    "sys.path.append('..')\n",
    "\n",
    "try:\n",
    "  import user_project_config as conf\n",
    "except:\n",
    "  import project_config as conf\n",
    "\n",
    "from IO import data_loading as dl\n",
    "from utils import logg \n",
    "from utils import data_processing as dp\n",
    "from models_utils import models_utils as mu\n",
    "\n",
    "\n",
    "from sklearn import preprocessing\n",
    "from sklearn.neighbors import KNeighborsClassifier\n",
    "from sklearn.svm import SVC\n",
    "from sklearn.tree import DecisionTreeClassifier\n",
    "from sklearn.ensemble import RandomForestClassifier, AdaBoostClassifier\n",
    "from sklearn.naive_bayes import GaussianNB\n",
    "from sklearn.dummy import DummyClassifier\n",
    "\n",
    "import xgboost as xgb #!!!"
   ]
  },
  {
   "cell_type": "code",
   "execution_count": 48,
   "metadata": {
    "collapsed": false
   },
   "outputs": [
    {
     "data": {
      "text/plain": [
       "'0.17'"
      ]
     },
     "execution_count": 48,
     "metadata": {},
     "output_type": "execute_result"
    }
   ],
   "source": [
    "import sklearn\n",
    "sklearn.__version__"
   ]
  },
  {
   "cell_type": "code",
   "execution_count": 7,
   "metadata": {
    "collapsed": false
   },
   "outputs": [],
   "source": [
    "#!!!\n",
    "USED_EXAMPLES_NUMBER = None # 'None' means that all examples are used; otherwise randomly selected\n",
    "\n",
    "#!!!\n",
    "OBJECTIVE_NAME = 'cl_sleep_interval' # e.g. 'BMIgr', 'Sex', 'cl_sleep_interval' #!!!!\n",
    "sample_name = OBJECTIVE_NAME + '_3' # train-test filename\n",
    "SEED = 0\n",
    "\n",
    "\n",
    "classifiers = [\n",
    "  (\"XGBoost\", xgb.XGBClassifier()),\n",
    "  (\"Dummy\", DummyClassifier(strategy='stratified')), # see http://scikit-learn.org/stable/modules/generated/sklearn.dummy.DummyClassifier.html\n",
    "  # (\"Linear SVM\", SVC(kernel=\"linear\", C=0.025)),\n",
    "  # (\"RBF SVM\", SVC(gamma=2, C=1)),\n",
    "  # (\"Decision Tree\", DecisionTreeClassifier(max_depth=5)),\n",
    "  (\"Random Forest\", RandomForestClassifier(n_estimators=100)),\n",
    "  (\"Nearest Neighbors\", KNeighborsClassifier(3)),\n",
    "  # (\"AdaBoost\", AdaBoostClassifier()),\n",
    "  (\"Naive Bayes\", GaussianNB())\n",
    "  ] # TODO: xgboost\n",
    "\n",
    "###############################################################\n",
    "# Initial configuration\n",
    "np.random.seed(SEED)"
   ]
  },
  {
   "cell_type": "code",
   "execution_count": 99,
   "metadata": {
    "collapsed": false
   },
   "outputs": [
    {
     "name": "stdout",
     "output_type": "stream",
     "text": [
      "(327834, 38)\n",
      "38\n",
      "{'Filtering params': OrderedDict([('interval type', 'N'), ('interval range', [200.0, 2000.0]), ('successive intervals ration range', None)]), 'path': '../../data/sample/cl_sleep_interval_3.h5', 'Features names': ['maxNN', 'minNN', 'meanNN', 'medianNN', 'SDNN', 'SDA60000NN', 'SD60000NNind', 'NN20', 'pNN20', 'NN50', 'pNN50', 'RMSSD', 'MeanHR', 'sd600000HR', 'HRVti', 'TINN', 'outlier', 'meanSD', 'stdSD', 'aVLF', 'aLF', 'aHF', 'peakVLF', 'peakLF', 'peakHF', 'aTotal', 'pVLF', 'pLF', 'pHF', 'nLF', 'nHF', 'LF/HF', 'poincSD1', 'poincSD2', 'sampen', 'alpha0', 'alpha1', 'alpha2'], 'Objective classes names': {0.0: 'awake', 1.0: 'sleep'}, 'Features params': {'time features': {'step sdHR': [600000], 'threshold outlier': 0.2, 'step SDNNind': [60000], 'step SDANN': [60000], 'threshold NN': [20, 50]}, 'nonlinear features': {'embedding dimension': 3, 'tolerance': 0.1, 'alpha border': 16.5, 'box lengths': [4, 6, 8, 10, 12, 14, 16, 17, 25, 33, 41, 49, 57, 64], 'limit for sample size': 420}, 'vizualization': False, 'sampling rate': 1000, 'frequency features': {'frequency bounds': [0.0, 0.0033, 0.04, 0.15, 0.4], 'frequency range': [0.001, 0.4, 200]}, 'save pic': False}}\n"
     ]
    }
   ],
   "source": [
    "trainX, trainY, testX, testY, sample_info = dl.load_hdf5_sample(sample_name)\n",
    "\n",
    "print trainX.shape\n",
    "print len(sample_info['Features names'])\n",
    "trainX[0]\n",
    "print sample_info#['Features names']"
   ]
  },
  {
   "cell_type": "code",
   "execution_count": 100,
   "metadata": {
    "collapsed": false
   },
   "outputs": [
    {
     "data": {
      "text/plain": [
       "array([     0,      0,      0,      0,      0,    403,    403,      0,\n",
       "            0,      0,      0,      0,      0, 327834,      0,      0,\n",
       "            0,      0,      0,      0,      0,      0,      0,      0,\n",
       "            0,      0,      0,      0,      0,      0,      0,      0,\n",
       "            0,      0,  77478,      0,      0,      0])"
      ]
     },
     "execution_count": 100,
     "metadata": {},
     "output_type": "execute_result"
    }
   ],
   "source": [
    "trainX.shape[0] + testX.shape[0]\n",
    "\n",
    "\n",
    "#print np.any(np.isnan(trainX[:, 13])==False)\n",
    "sample_info['Features names'][13]\n",
    "\n",
    "nans_counter = np.sum(np.isnan(trainX[:, :]), axis=0)\n",
    "#np.array(sample_info['Features names'])[ind]\n",
    "ind = nans_counter == 0\n",
    "\n",
    "#print np.sum(np.isnan(testX[:, :]), axis=0)\n",
    "nans_counter"
   ]
  },
  {
   "cell_type": "code",
   "execution_count": 8,
   "metadata": {
    "collapsed": false
   },
   "outputs": [
    {
     "name": "stderr",
     "output_type": "stream",
     "text": [
      "/home/iv/anaconda2/lib/python2.7/site-packages/sklearn/preprocessing/label.py:108: DataConversionWarning: A column-vector y was passed when a 1d array was expected. Please change the shape of y to (n_samples, ), for example using ravel().\n",
      "  y = column_or_1d(y, warn=True)\n"
     ]
    },
    {
     "data": {
      "text/plain": [
       "XGBClassifier(base_score=0.5, colsample_bylevel=1, colsample_bytree=1,\n",
       "       gamma=0, learning_rate=0.1, max_delta_step=0, max_depth=3,\n",
       "       min_child_weight=1, missing=None, n_estimators=100, nthread=-1,\n",
       "       objective='binary:logistic', reg_alpha=0, reg_lambda=1,\n",
       "       scale_pos_weight=1, seed=0, silent=True, subsample=1)"
      ]
     },
     "execution_count": 8,
     "metadata": {},
     "output_type": "execute_result"
    }
   ],
   "source": [
    "clf = xgb.XGBClassifier()\n",
    "clf.fit(trainX, trainY)"
   ]
  },
  {
   "cell_type": "code",
   "execution_count": 15,
   "metadata": {
    "collapsed": false
   },
   "outputs": [
    {
     "name": "stdout",
     "output_type": "stream",
     "text": [
      "[[78990 13478]\n",
      " [13770 33323]]\n",
      "[[ 0.85424147  0.14575853]\n",
      " [ 0.29240014  0.70759986]]\n",
      "accuracy 0.804759209235\n"
     ]
    }
   ],
   "source": [
    "from sklearn.metrics import confusion_matrix, mean_squared_error, accuracy_score\n",
    "predictions = clf.predict(testX)\n",
    "actuals = testY\n",
    "cm = confusion_matrix(actuals, predictions)\n",
    "print(cm)\n",
    "\n",
    "cm_normalized = cm.astype('float') / cm.sum(axis=1)[:, np.newaxis]\n",
    "print(cm_normalized)\n",
    "print 'accuracy', accuracy_score(actuals, predictions)"
   ]
  },
  {
   "cell_type": "code",
   "execution_count": 67,
   "metadata": {
    "collapsed": false
   },
   "outputs": [
    {
     "name": "stdout",
     "output_type": "stream",
     "text": [
      "[False False  True  True False False False False False False  True False\n",
      " False False False False  True False False False False False  True False\n",
      " False False False False False False False False False False]\n",
      "[ 9  6  1  1 14 23 12 26 20 17  1  4 15 27  2 16  1  5  8 30 29 28  1 11 24\n",
      " 22 18 25 19  3 21 10 13  7]\n"
     ]
    },
    {
     "name": "stderr",
     "output_type": "stream",
     "text": [
      "/home/iv/anaconda2/lib/python2.7/site-packages/sklearn/utils/validation.py:515: DataConversionWarning: A column-vector y was passed when a 1d array was expected. Please change the shape of y to (n_samples, ), for example using ravel().\n",
      "  y = column_or_1d(y, warn=True)\n"
     ]
    }
   ],
   "source": [
    "# Recursive Feature Elimination\n",
    "from sklearn import datasets\n",
    "from sklearn.feature_selection import RFE\n",
    "\n",
    "\n",
    "clf = RandomForestClassifier(n_estimators=100) #xgb.XGBClassifier()\n",
    "\n",
    "rfe = RFE(clf, 5, verbose=1)\n",
    "rfe = rfe.fit(trainX[:, ind], trainY)\n",
    "# summarize the selection of the attributes\n",
    "print(rfe.support_)\n",
    "print(rfe.ranking_)"
   ]
  },
  {
   "cell_type": "code",
   "execution_count": 74,
   "metadata": {
    "collapsed": false
   },
   "outputs": [
    {
     "data": {
      "text/plain": [
       "RFE(estimator=RandomForestClassifier(bootstrap=True, class_weight=None, criterion='gini',\n",
       "            max_depth=None, max_features='auto', max_leaf_nodes=None,\n",
       "            min_samples_leaf=1, min_samples_split=2,\n",
       "            min_weight_fraction_leaf=0.0, n_estimators=100, n_jobs=1,\n",
       "            oob_score=False, random_state=None, verbose=0,\n",
       "            warm_start=False),\n",
       "  estimator_params=None, n_features_to_select=5, step=1, verbose=0)"
      ]
     },
     "execution_count": 74,
     "metadata": {},
     "output_type": "execute_result"
    }
   ],
   "source": [
    "clf = rfe\n",
    "clf"
   ]
  },
  {
   "cell_type": "code",
   "execution_count": 89,
   "metadata": {
    "collapsed": false
   },
   "outputs": [
    {
     "name": "stdout",
     "output_type": "stream",
     "text": [
      "Automatically created module for IPython interactive environment\n"
     ]
    },
    {
     "data": {
      "image/png": "[encoded data removed]",
      "text/plain": [
       "<matplotlib.figure.Figure at 0x7fb2e0cc3510>"
      ]
     },
     "metadata": {},
     "output_type": "display_data"
    }
   ],
   "source": [
    "print(__doc__)\n",
    "\n",
    "from sklearn.svm import SVC\n",
    "from sklearn.datasets import load_digits\n",
    "from sklearn.feature_selection import RFE\n",
    "import matplotlib.pyplot as plt\n",
    "%matplotlib inline\n",
    "#import seaborn\n",
    "\n",
    "\n",
    "ranking = rfe.ranking_\n",
    "ranking = ranking[np.newaxis, :]\n",
    "\n",
    "# Plot pixel ranking\n",
    "plt.matshow(ranking)\n",
    "plt.colorbar()\n",
    "plt.title(\"Ranking of features with RFE\")\n",
    "plt.show()"
   ]
  },
  {
   "cell_type": "code",
   "execution_count": 83,
   "metadata": {
    "collapsed": false
   },
   "outputs": [
    {
     "ename": "AttributeError",
     "evalue": "'RFE' object has no attribute 'grid_scores_'",
     "output_type": "error",
     "traceback": [
      "\u001b[1;31m---------------------------------------------------------------------------\u001b[0m",
      "\u001b[1;31mAttributeError\u001b[0m                            Traceback (most recent call last)",
      "\u001b[1;32m<ipython-input-83-044aaa29cf0b>\u001b[0m in \u001b[0;36m<module>\u001b[1;34m()\u001b[0m\n\u001b[0;32m      3\u001b[0m \u001b[0mplt\u001b[0m\u001b[1;33m.\u001b[0m\u001b[0mxlabel\u001b[0m\u001b[1;33m(\u001b[0m\u001b[1;34m\"Number of features selected\"\u001b[0m\u001b[1;33m)\u001b[0m\u001b[1;33m\u001b[0m\u001b[0m\n\u001b[0;32m      4\u001b[0m \u001b[0mplt\u001b[0m\u001b[1;33m.\u001b[0m\u001b[0mylabel\u001b[0m\u001b[1;33m(\u001b[0m\u001b[1;34m\"Cross validation score (nb of correct classifications)\"\u001b[0m\u001b[1;33m)\u001b[0m\u001b[1;33m\u001b[0m\u001b[0m\n\u001b[1;32m----> 5\u001b[1;33m \u001b[0mplt\u001b[0m\u001b[1;33m.\u001b[0m\u001b[0mplot\u001b[0m\u001b[1;33m(\u001b[0m\u001b[0mrange\u001b[0m\u001b[1;33m(\u001b[0m\u001b[1;36m1\u001b[0m\u001b[1;33m,\u001b[0m \u001b[0mlen\u001b[0m\u001b[1;33m(\u001b[0m\u001b[0mrfe\u001b[0m\u001b[1;33m.\u001b[0m\u001b[0mgrid_scores_\u001b[0m\u001b[1;33m)\u001b[0m \u001b[1;33m+\u001b[0m \u001b[1;36m1\u001b[0m\u001b[1;33m)\u001b[0m\u001b[1;33m,\u001b[0m \u001b[0mrfe\u001b[0m\u001b[1;33m.\u001b[0m\u001b[0mgrid_scores_\u001b[0m\u001b[1;33m)\u001b[0m\u001b[1;33m\u001b[0m\u001b[0m\n\u001b[0m\u001b[0;32m      6\u001b[0m \u001b[0mplt\u001b[0m\u001b[1;33m.\u001b[0m\u001b[0mshow\u001b[0m\u001b[1;33m(\u001b[0m\u001b[1;33m)\u001b[0m\u001b[1;33m\u001b[0m\u001b[0m\n",
      "\u001b[1;31mAttributeError\u001b[0m: 'RFE' object has no attribute 'grid_scores_'"
     ]
    }
   ],
   "source": [
    "# Plot number of features VS. cross-validation scores\n",
    "plt.figure()\n",
    "plt.xlabel(\"Number of features selected\")\n",
    "plt.ylabel(\"Cross validation score (nb of correct classifications)\")\n",
    "plt.plot(range(1, len(rfe.grid_scores_) + 1), rfe.grid_scores_)\n",
    "plt.show()"
   ]
  },
  {
   "cell_type": "code",
   "execution_count": 81,
   "metadata": {
    "collapsed": false
   },
   "outputs": [
    {
     "data": {
      "text/plain": [
       "array([ 9,  6,  1,  1, 14, 23, 12, 26, 20, 17,  1,  4, 15, 27,  2, 16,  1,\n",
       "        5,  8, 30, 29, 28,  1, 11, 24, 22, 18, 25, 19,  3, 21, 10, 13,  7])"
      ]
     },
     "execution_count": 81,
     "metadata": {},
     "output_type": "execute_result"
    }
   ],
   "source": [
    "importance = '9  6  1  1 14 23 12 26 20 17  1  4 15 27  2 16  1  5  8 30 29 28  1 11 24  22 18 25 19  3 21 10 13  7'.split(' ')\n",
    "importance = [int(el) for el in importance if el!='']\n",
    "importance = np.array(importance)\n",
    "importance"
   ]
  },
  {
   "cell_type": "code",
   "execution_count": 73,
   "metadata": {
    "collapsed": false
   },
   "outputs": [
    {
     "name": "stdout",
     "output_type": "stream",
     "text": [
      "[[77482 14986]\n",
      " [15898 31195]]\n",
      "[[ 0.83793312  0.16206688]\n",
      " [ 0.33758733  0.66241267]]\n",
      "accuracy 0.778706085511\n"
     ]
    }
   ],
   "source": [
    "from sklearn.metrics import confusion_matrix, mean_squared_error, accuracy_score\n",
    "\n",
    "def show_results(clf, testX, testY):\n",
    "    predictions = clf.predict(testX)\n",
    "    actuals = testY\n",
    "    cm = confusion_matrix(actuals, predictions)\n",
    "    print(cm)\n",
    "\n",
    "    cm_normalized = cm.astype('float') / cm.sum(axis=1)[:, np.newaxis]\n",
    "    print(cm_normalized)\n",
    "    print 'accuracy', accuracy_score(actuals, predictions)\n",
    "    \n",
    "    \n",
    "show_results(clf, testX[:, ind], testY)"
   ]
  },
  {
   "cell_type": "code",
   "execution_count": null,
   "metadata": {
    "collapsed": true
   },
   "outputs": [],
   "source": [
    "np.any(np.isnan(trainX[:, ~ind]))\n",
    "ind\n",
    "trainX[:, ind].shape, trainY[ind].shape"
   ]
  },
  {
   "cell_type": "code",
   "execution_count": null,
   "metadata": {
    "collapsed": true
   },
   "outputs": [],
   "source": []
  },
  {
   "cell_type": "code",
   "execution_count": null,
   "metadata": {
    "collapsed": true
   },
   "outputs": [],
   "source": []
  },
  {
   "cell_type": "code",
   "execution_count": null,
   "metadata": {
    "collapsed": true
   },
   "outputs": [],
   "source": []
  },
  {
   "cell_type": "code",
   "execution_count": null,
   "metadata": {
    "collapsed": true
   },
   "outputs": [],
   "source": []
  },
  {
   "cell_type": "code",
   "execution_count": 90,
   "metadata": {
    "collapsed": false
   },
   "outputs": [
    {
     "name": "stdout",
     "output_type": "stream",
     "text": [
      "[  4.33715129e-02   6.73588989e-02   7.42422542e-02   8.49738910e-02\n",
      "   2.34733853e-02   2.84421790e-02   4.48385080e-02   1.98630169e-02\n",
      "   2.30285504e-02   2.07521018e-02   6.22396974e-02   2.59454761e-02\n",
      "   2.06870745e-02   1.59820171e-02   2.27028220e-02   2.30776429e-02\n",
      "   4.05664199e-02   2.84409282e-02   1.78083989e-02   7.06161820e-05\n",
      "   3.61460622e-03   6.00279995e-03   7.41574387e-02   1.92783623e-02\n",
      "   1.76928138e-02   1.73425034e-02   1.79019666e-02   1.73982122e-02\n",
      "   1.77403592e-02   2.81182162e-02   2.12858435e-02   2.35633176e-02\n",
      "   2.18970554e-02   2.61411134e-02]\n"
     ]
    },
    {
     "name": "stderr",
     "output_type": "stream",
     "text": [
      "/home/iv/anaconda2/lib/python2.7/site-packages/ipykernel/__main__.py:5: DataConversionWarning: A column-vector y was passed when a 1d array was expected. Please change the shape of y to (n_samples,), for example using ravel().\n"
     ]
    }
   ],
   "source": [
    "from sklearn import metrics\n",
    "from sklearn.ensemble import ExtraTreesClassifier\n",
    "\n",
    "model = ExtraTreesClassifier()\n",
    "model.fit(trainX[:, ind], trainY)\n",
    "# display the relative importance of each attribute\n",
    "print(model.feature_importances_)\n",
    "\n",
    "ETC_imp = model.feature_importances_"
   ]
  },
  {
   "cell_type": "code",
   "execution_count": 108,
   "metadata": {
    "collapsed": false
   },
   "outputs": [
    {
     "name": "stdout",
     "output_type": "stream",
     "text": [
      "8 features\n"
     ]
    }
   ],
   "source": [
    "sel_ind = ETC_imp > 3 * 10**-2\n",
    "print sum(sel_ind), 'features'"
   ]
  },
  {
   "cell_type": "code",
   "execution_count": 111,
   "metadata": {
    "collapsed": false
   },
   "outputs": [
    {
     "name": "stdout",
     "output_type": "stream",
     "text": [
      "[[78448 14020]\n",
      " [15210 31883]]\n",
      "[[ 0.84837998  0.15162002]\n",
      " [ 0.32297794  0.67702206]]\n",
      "accuracy 0.790557533982\n"
     ]
    },
    {
     "name": "stderr",
     "output_type": "stream",
     "text": [
      "/home/iv/anaconda2/lib/python2.7/site-packages/ipykernel/__main__.py:2: DataConversionWarning: A column-vector y was passed when a 1d array was expected. Please change the shape of y to (n_samples,), for example using ravel().\n",
      "  from ipykernel import kernelapp as app\n"
     ]
    }
   ],
   "source": [
    "clf = RandomForestClassifier(n_estimators=150)#xgb.XGBClassifier()\n",
    "clf.fit(trainX[:, ind][:, sel_ind], trainY)\n",
    "show_results(clf, testX[:, ind][:, sel_ind], testY)"
   ]
  },
  {
   "cell_type": "code",
   "execution_count": 113,
   "metadata": {
    "collapsed": false
   },
   "outputs": [
    {
     "name": "stdout",
     "output_type": "stream",
     "text": [
      "Optimal number of features : 23\n"
     ]
    },
    {
     "name": "stderr",
     "output_type": "stream",
     "text": [
      "/home/iv/anaconda2/lib/python2.7/site-packages/sklearn/utils/validation.py:515: DataConversionWarning: A column-vector y was passed when a 1d array was expected. Please change the shape of y to (n_samples, ), for example using ravel().\n",
      "  y = column_or_1d(y, warn=True)\n"
     ]
    },
    {
     "data": {
      "image/png": "[encoded data removed]",
      "text/plain": [
       "<matplotlib.figure.Figure at 0x7fb2dfcf6c10>"
      ]
     },
     "metadata": {},
     "output_type": "display_data"
    }
   ],
   "source": [
    "import matplotlib.pyplot as plt\n",
    "from sklearn.svm import SVC\n",
    "from sklearn.cross_validation import StratifiedKFold\n",
    "from sklearn.feature_selection import RFECV\n",
    "from sklearn.datasets import make_classification\n",
    "\n",
    "%matplotlib inline\n",
    "\n",
    "X = trainX[:, ind]\n",
    "y = trainY\n",
    "# Create the RFE object and compute a cross-validated score.\n",
    "svc = RandomForestClassifier(n_estimators=100)\n",
    "# The \"accuracy\" scoring is proportional to the number of correct\n",
    "# classifications\n",
    "rfecv = RFECV(estimator=svc, step=1,scoring='accuracy')\n",
    "rfecv.fit(X, y)\n",
    "\n",
    "print(\"Optimal number of features : %d\" % rfecv.n_features_)\n",
    "\n",
    "# Plot number of features VS. cross-validation scores\n",
    "plt.figure()\n",
    "plt.xlabel(\"Number of features selected\")\n",
    "plt.ylabel(\"Cross validation score (nb of correct classifications)\")\n",
    "plt.plot(range(1, len(rfecv.grid_scores_) + 1), rfecv.grid_scores_)\n",
    "plt.show()"
   ]
  },
  {
   "cell_type": "code",
   "execution_count": null,
   "metadata": {
    "collapsed": true
   },
   "outputs": [],
   "source": []
  }
 ],
 "metadata": {
  "kernelspec": {
   "display_name": "Python 2",
   "language": "python",
   "name": "python2"
  },
  "language_info": {
   "codemirror_mode": {
    "name": "ipython",
    "version": 2
   },
   "file_extension": ".py",
   "mimetype": "text/x-python",
   "name": "python",
   "nbconvert_exporter": "python",
   "pygments_lexer": "ipython2",
   "version": "2.7.11"
  }
 },
 "nbformat": 4,
 "nbformat_minor": 0
}
